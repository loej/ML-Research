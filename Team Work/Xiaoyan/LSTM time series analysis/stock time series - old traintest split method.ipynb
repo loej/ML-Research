{
 "cells": [
  {
   "cell_type": "code",
   "execution_count": 1,
   "metadata": {},
   "outputs": [],
   "source": [
    "import yfinance as yf\n",
    "import math\n",
    "import numpy as np\n",
    "import pandas as pd\n",
    "import matplotlib.pyplot as plt"
   ]
  },
  {
   "cell_type": "markdown",
   "metadata": {},
   "source": [
    "# Get a stock data"
   ]
  },
  {
   "cell_type": "code",
   "execution_count": 2,
   "metadata": {},
   "outputs": [
    {
     "data": {
      "text/html": [
       "<div>\n",
       "<style scoped>\n",
       "    .dataframe tbody tr th:only-of-type {\n",
       "        vertical-align: middle;\n",
       "    }\n",
       "\n",
       "    .dataframe tbody tr th {\n",
       "        vertical-align: top;\n",
       "    }\n",
       "\n",
       "    .dataframe thead th {\n",
       "        text-align: right;\n",
       "    }\n",
       "</style>\n",
       "<table border=\"1\" class=\"dataframe\">\n",
       "  <thead>\n",
       "    <tr style=\"text-align: right;\">\n",
       "      <th></th>\n",
       "      <th>Open</th>\n",
       "      <th>High</th>\n",
       "      <th>Low</th>\n",
       "      <th>Close</th>\n",
       "      <th>Volume</th>\n",
       "      <th>Dividends</th>\n",
       "      <th>Stock Splits</th>\n",
       "    </tr>\n",
       "    <tr>\n",
       "      <th>Date</th>\n",
       "      <th></th>\n",
       "      <th></th>\n",
       "      <th></th>\n",
       "      <th></th>\n",
       "      <th></th>\n",
       "      <th></th>\n",
       "      <th></th>\n",
       "    </tr>\n",
       "  </thead>\n",
       "  <tbody>\n",
       "    <tr>\n",
       "      <th>2010-01-04</th>\n",
       "      <td>6.522158</td>\n",
       "      <td>6.554855</td>\n",
       "      <td>6.490071</td>\n",
       "      <td>6.539882</td>\n",
       "      <td>493729600</td>\n",
       "      <td>0.0</td>\n",
       "      <td>0.0</td>\n",
       "    </tr>\n",
       "    <tr>\n",
       "      <th>2010-01-05</th>\n",
       "      <td>6.557910</td>\n",
       "      <td>6.588163</td>\n",
       "      <td>6.516656</td>\n",
       "      <td>6.551187</td>\n",
       "      <td>601904800</td>\n",
       "      <td>0.0</td>\n",
       "      <td>0.0</td>\n",
       "    </tr>\n",
       "    <tr>\n",
       "      <th>2010-01-06</th>\n",
       "      <td>6.551189</td>\n",
       "      <td>6.577164</td>\n",
       "      <td>6.440261</td>\n",
       "      <td>6.446983</td>\n",
       "      <td>552160000</td>\n",
       "      <td>0.0</td>\n",
       "      <td>0.0</td>\n",
       "    </tr>\n",
       "    <tr>\n",
       "      <th>2010-01-07</th>\n",
       "      <td>6.470819</td>\n",
       "      <td>6.478459</td>\n",
       "      <td>6.388311</td>\n",
       "      <td>6.435065</td>\n",
       "      <td>477131200</td>\n",
       "      <td>0.0</td>\n",
       "      <td>0.0</td>\n",
       "    </tr>\n",
       "    <tr>\n",
       "      <th>2010-01-08</th>\n",
       "      <td>6.426508</td>\n",
       "      <td>6.478458</td>\n",
       "      <td>6.388615</td>\n",
       "      <td>6.477847</td>\n",
       "      <td>447610800</td>\n",
       "      <td>0.0</td>\n",
       "      <td>0.0</td>\n",
       "    </tr>\n",
       "    <tr>\n",
       "      <th>...</th>\n",
       "      <td>...</td>\n",
       "      <td>...</td>\n",
       "      <td>...</td>\n",
       "      <td>...</td>\n",
       "      <td>...</td>\n",
       "      <td>...</td>\n",
       "      <td>...</td>\n",
       "    </tr>\n",
       "    <tr>\n",
       "      <th>2020-01-17</th>\n",
       "      <td>77.753908</td>\n",
       "      <td>78.361149</td>\n",
       "      <td>77.441685</td>\n",
       "      <td>78.358696</td>\n",
       "      <td>137816400</td>\n",
       "      <td>0.0</td>\n",
       "      <td>0.0</td>\n",
       "    </tr>\n",
       "    <tr>\n",
       "      <th>2020-01-21</th>\n",
       "      <td>77.980091</td>\n",
       "      <td>78.429987</td>\n",
       "      <td>77.687533</td>\n",
       "      <td>77.827667</td>\n",
       "      <td>110843200</td>\n",
       "      <td>0.0</td>\n",
       "      <td>0.0</td>\n",
       "    </tr>\n",
       "    <tr>\n",
       "      <th>2020-01-22</th>\n",
       "      <td>78.321815</td>\n",
       "      <td>78.668460</td>\n",
       "      <td>78.009593</td>\n",
       "      <td>78.105476</td>\n",
       "      <td>101832400</td>\n",
       "      <td>0.0</td>\n",
       "      <td>0.0</td>\n",
       "    </tr>\n",
       "    <tr>\n",
       "      <th>2020-01-23</th>\n",
       "      <td>78.159562</td>\n",
       "      <td>78.562747</td>\n",
       "      <td>77.601486</td>\n",
       "      <td>78.481621</td>\n",
       "      <td>104472000</td>\n",
       "      <td>0.0</td>\n",
       "      <td>0.0</td>\n",
       "    </tr>\n",
       "    <tr>\n",
       "      <th>2020-01-24</th>\n",
       "      <td>78.732383</td>\n",
       "      <td>79.489587</td>\n",
       "      <td>78.061219</td>\n",
       "      <td>78.255440</td>\n",
       "      <td>146537600</td>\n",
       "      <td>0.0</td>\n",
       "      <td>0.0</td>\n",
       "    </tr>\n",
       "  </tbody>\n",
       "</table>\n",
       "<p>2532 rows × 7 columns</p>\n",
       "</div>"
      ],
      "text/plain": [
       "                 Open       High        Low      Close     Volume  Dividends  \\\n",
       "Date                                                                           \n",
       "2010-01-04   6.522158   6.554855   6.490071   6.539882  493729600        0.0   \n",
       "2010-01-05   6.557910   6.588163   6.516656   6.551187  601904800        0.0   \n",
       "2010-01-06   6.551189   6.577164   6.440261   6.446983  552160000        0.0   \n",
       "2010-01-07   6.470819   6.478459   6.388311   6.435065  477131200        0.0   \n",
       "2010-01-08   6.426508   6.478458   6.388615   6.477847  447610800        0.0   \n",
       "...               ...        ...        ...        ...        ...        ...   \n",
       "2020-01-17  77.753908  78.361149  77.441685  78.358696  137816400        0.0   \n",
       "2020-01-21  77.980091  78.429987  77.687533  77.827667  110843200        0.0   \n",
       "2020-01-22  78.321815  78.668460  78.009593  78.105476  101832400        0.0   \n",
       "2020-01-23  78.159562  78.562747  77.601486  78.481621  104472000        0.0   \n",
       "2020-01-24  78.732383  79.489587  78.061219  78.255440  146537600        0.0   \n",
       "\n",
       "            Stock Splits  \n",
       "Date                      \n",
       "2010-01-04           0.0  \n",
       "2010-01-05           0.0  \n",
       "2010-01-06           0.0  \n",
       "2010-01-07           0.0  \n",
       "2010-01-08           0.0  \n",
       "...                  ...  \n",
       "2020-01-17           0.0  \n",
       "2020-01-21           0.0  \n",
       "2020-01-22           0.0  \n",
       "2020-01-23           0.0  \n",
       "2020-01-24           0.0  \n",
       "\n",
       "[2532 rows x 7 columns]"
      ]
     },
     "execution_count": 2,
     "metadata": {},
     "output_type": "execute_result"
    }
   ],
   "source": [
    "# define tricker symbol\n",
    "tickerSymbol = \"AAPL\" # can use other company tickers\n",
    "\n",
    "#get data on this sticker\n",
    "tickerData = yf.Ticker(tickerSymbol)\n",
    "# get historical price for this ticker\n",
    "tickerDf = tickerData.history(period = '1mo', start = '2010-1-1', end = '2020-1-25')\n",
    "\n",
    "tickerDf\n",
    "#tickerData.info"
   ]
  },
  {
   "cell_type": "code",
   "execution_count": 3,
   "metadata": {
    "_cell_guid": "dc37e399-005d-4e56-a7e0-d14f2f7ed1c3",
    "_uuid": "d35448b01a7670ccb2960b5da7d61588e0ac3cc0"
   },
   "outputs": [
    {
     "data": {
      "text/plain": [
       "(Date\n",
       " 2010-01-04    6.554855\n",
       " 2010-01-05    6.588163\n",
       " 2010-01-06    6.577164\n",
       " 2010-01-07    6.478459\n",
       " 2010-01-08    6.478458\n",
       " Name: High, dtype: float64,\n",
       " (2532,))"
      ]
     },
     "execution_count": 3,
     "metadata": {},
     "output_type": "execute_result"
    }
   ],
   "source": [
    "data = tickerDf.iloc[:,1]\n",
    "data.head(), data.shape"
   ]
  },
  {
   "cell_type": "code",
   "execution_count": 4,
   "metadata": {},
   "outputs": [
    {
     "data": {
      "text/html": [
       "<div>\n",
       "<style scoped>\n",
       "    .dataframe tbody tr th:only-of-type {\n",
       "        vertical-align: middle;\n",
       "    }\n",
       "\n",
       "    .dataframe tbody tr th {\n",
       "        vertical-align: top;\n",
       "    }\n",
       "\n",
       "    .dataframe thead th {\n",
       "        text-align: right;\n",
       "    }\n",
       "</style>\n",
       "<table border=\"1\" class=\"dataframe\">\n",
       "  <thead>\n",
       "    <tr style=\"text-align: right;\">\n",
       "      <th></th>\n",
       "      <th>High</th>\n",
       "    </tr>\n",
       "    <tr>\n",
       "      <th>Date</th>\n",
       "      <th></th>\n",
       "    </tr>\n",
       "  </thead>\n",
       "  <tbody>\n",
       "    <tr>\n",
       "      <th>2010-01-04</th>\n",
       "      <td>6.554855</td>\n",
       "    </tr>\n",
       "    <tr>\n",
       "      <th>2010-01-05</th>\n",
       "      <td>6.588163</td>\n",
       "    </tr>\n",
       "    <tr>\n",
       "      <th>2010-01-06</th>\n",
       "      <td>6.577164</td>\n",
       "    </tr>\n",
       "    <tr>\n",
       "      <th>2010-01-07</th>\n",
       "      <td>6.478459</td>\n",
       "    </tr>\n",
       "    <tr>\n",
       "      <th>2010-01-08</th>\n",
       "      <td>6.478458</td>\n",
       "    </tr>\n",
       "  </tbody>\n",
       "</table>\n",
       "</div>"
      ],
      "text/plain": [
       "                High\n",
       "Date                \n",
       "2010-01-04  6.554855\n",
       "2010-01-05  6.588163\n",
       "2010-01-06  6.577164\n",
       "2010-01-07  6.478459\n",
       "2010-01-08  6.478458"
      ]
     },
     "execution_count": 4,
     "metadata": {},
     "output_type": "execute_result"
    }
   ],
   "source": [
    "data = data.to_frame()\n",
    "data.head()"
   ]
  },
  {
   "cell_type": "markdown",
   "metadata": {
    "_uuid": "fc6779087bacb9b2b235c14ab44f26022fbcf871"
   },
   "source": [
    "Here, we have a univariate data set which records the number of airline passengers for each month.\n",
    "\n",
    "Let's now plot the time series of the data in order to get some ideas about underlying trends, seasonality etc."
   ]
  },
  {
   "cell_type": "code",
   "execution_count": 5,
   "metadata": {
    "_cell_guid": "24c80b53-b571-4100-beb8-b491f8130961",
    "_uuid": "d14336e4ca3b5890b8cc7ab8b214e83e35a9a38f",
    "scrolled": true
   },
   "outputs": [
    {
     "data": {
      "image/png": "[encoded data removed]",
      "text/plain": [
       "<Figure size 1080x360 with 1 Axes>"
      ]
     },
     "metadata": {
      "needs_background": "light"
     },
     "output_type": "display_data"
    }
   ],
   "source": [
    "# Create a time series plot.\n",
    "plt.figure(figsize = (15, 5)) # plot size\n",
    "plt.plot(data, label = \"Airline Passengers\")\n",
    "plt.xlabel(\"Months\") # add axis title\n",
    "plt.ylabel(\"\") # add axis title\n",
    "plt.title(\"Monthly Total Airline Passengers 1949 - 1960\")\n",
    "plt.legend()\n",
    "plt.show()"
   ]
  },
  {
   "cell_type": "markdown",
   "metadata": {},
   "source": [
    "Decompose data see if trend/seasonality trend exists"
   ]
  },
  {
   "cell_type": "code",
   "execution_count": 6,
   "metadata": {},
   "outputs": [
    {
     "name": "stderr",
     "output_type": "stream",
     "text": [
      "C:\\Users\\Lenovo\\Anaconda3\\envs\\TENSORFLOWSESSION\\lib\\site-packages\\ipykernel_launcher.py:7: FutureWarning: the 'freq'' keyword is deprecated, use 'period' instead\n",
      "  import sys\n"
     ]
    },
    {
     "data": {
      "image/png": "[encoded data removed]",
      "text/plain": [
       "<Figure size 432x288 with 4 Axes>"
      ]
     },
     "metadata": {
      "needs_background": "light"
     },
     "output_type": "display_data"
    }
   ],
   "source": [
    "import statsmodels.api as sm\n",
    "\n",
    "#dta = sm.datasets.co2.load_pandas().data\n",
    "# deal with missing values. see issue\n",
    "#dta.co2.interpolate(inplace=True)\n",
    "\n",
    "res = sm.tsa.seasonal_decompose(data, freq = 365)\n",
    "resplot = res.plot()"
   ]
  },
  {
   "cell_type": "markdown",
   "metadata": {
    "_cell_guid": "cc49f77c-1161-4278-b1ce-6c582db8d5d3",
    "_uuid": "0241395457e89d54254c50cd3ab75a7e3e2bbccf"
   },
   "source": [
    "### Building the LSTM model\n"
   ]
  },
  {
   "cell_type": "code",
   "execution_count": 8,
   "metadata": {
    "_cell_guid": "0db37933-7393-497e-a588-48ce08fbc941",
    "_uuid": "1d74c91ec1bbaaee05dc38d21d8b385e5c4ac6d5"
   },
   "outputs": [
    {
     "name": "stderr",
     "output_type": "stream",
     "text": [
      "Using TensorFlow backend.\n"
     ]
    }
   ],
   "source": [
    "# Let's load the required libs.\n",
    "# We'll be using the Tensorflow backend (default).\n",
    "from keras.models import Sequential\n",
    "from keras.layers.recurrent import LSTM\n",
    "from keras.layers.core import Dense, Activation, Dropout\n",
    "from sklearn.preprocessing import MinMaxScaler\n",
    "from sklearn.metrics import mean_squared_error\n",
    "from sklearn.utils import shuffle"
   ]
  },
  {
   "cell_type": "markdown",
   "metadata": {
    "_cell_guid": "55066a9e-44c7-4fc8-b783-d527cf527bb0",
    "_uuid": "2a813223d3413e80b900e9f4abc9d07c21eb1e3f"
   },
   "source": [
    "#### Data preparation"
   ]
  },
  {
   "cell_type": "code",
   "execution_count": 9,
   "metadata": {
    "_cell_guid": "c009c934-95e7-4bf2-ad33-ed57e30184bd",
    "_uuid": "7411c5d1ef6e2720b8eeb880e76580f127a3706e"
   },
   "outputs": [],
   "source": [
    "# Get the raw data values from the pandas data frame.\n",
    "data_raw = data.values.astype(\"float32\") # convert data type\n",
    "\n",
    "# We apply the MinMax scaler from sklearn\n",
    "# to normalize data in the (0, 1) interval.\n",
    "scaler = MinMaxScaler(feature_range = (0, 1))\n",
    "dataset = scaler.fit_transform(data_raw)\n",
    "\n",
    "# Print a few values.\n",
    "#dataset[0:5], data_raw[0:5],data[0:5]"
   ]
  },
  {
   "cell_type": "markdown",
   "metadata": {
    "_cell_guid": "c529a917-e0c6-4e31-90f0-82c5ebda805c",
    "_uuid": "9b6e074719bee31714d432996c6d6374cae92d80"
   },
   "source": [
    "#### Split into test / training data\n",
    "\n",
    "As usual, the data gets split into training and test data so we can later assess how well the final model performs. \n",
    "\n",
    "Again, this could be much improved, e.g. using CV and more sophisticated steps to select the \"best\" model."
   ]
  },
  {
   "cell_type": "code",
   "execution_count": 10,
   "metadata": {
    "_cell_guid": "9a1fc345-2aca-4629-bece-be984d02cc22",
    "_uuid": "8d5687ded354b39d1d5b281a8129d451d4d6db90"
   },
   "outputs": [
    {
     "name": "stdout",
     "output_type": "stream",
     "text": [
      "Number of entries (training set, test set): (1772, 760)\n"
     ]
    }
   ],
   "source": [
    "# Using 60% of data for training, 40% for validation.\n",
    "TRAIN_SIZE = 0.70\n",
    "# splitting training/testing ddata is different from other model\n",
    "# in time series data, split based on the time order of the order because we need to keep the time sequence\n",
    "## use more recent data as test and historical data as train\n",
    "train_size = int(len(dataset) * TRAIN_SIZE)\n",
    "test_size = len(dataset) - train_size\n",
    "train, test = dataset[0:train_size, :], dataset[train_size:len(dataset), :] # split at a certain time point\n",
    "print(\"Number of entries (training set, test set): \" + str((len(train), len(test))))\n"
   ]
  },
  {
   "cell_type": "markdown",
   "metadata": {
    "_cell_guid": "45890bc5-05c0-49a1-bb50-19e0c8ad359e",
    "_uuid": "c45c32008309f0e92edc6da7d70e0c68080902cc"
   },
   "source": [
    "#### Get data into shape to use in Keras"
   ]
  },
  {
   "cell_type": "code",
   "execution_count": 11,
   "metadata": {
    "_cell_guid": "19bc3b63-c65e-4c2c-8c2d-661a5a988df9",
    "_uuid": "6aa6e8291b129f2ab7e3568cb1cae07a692efb4c"
   },
   "outputs": [],
   "source": [
    "# FIXME: This helper function should be rewritten using numpy's shift function. See below.\n",
    "# this function is to help construct data as x variables (which is past data depend on how many time step you want to go back) and y variable (as the time step you want to predict)\n",
    "def create_dataset(dataset, window_size = 3):\n",
    "    data_X, data_Y = [], []\n",
    "    for i in range(len(dataset) - window_size - 1):\n",
    "        a = dataset[i:(i + window_size), 0]\n",
    "        data_X.append(a)\n",
    "        data_Y.append(dataset[i + window_size, 0])\n",
    "    return(np.array(data_X), np.array(data_Y))\n",
    "# result in the dataset has 2 observations than waht it suppose to be"
   ]
  },
  {
   "cell_type": "code",
   "execution_count": 12,
   "metadata": {
    "_cell_guid": "a5a0c704-fb34-4340-846b-f84ac457ddb3",
    "_uuid": "f8b3f24ce79bdbfe7aa17b4a77cfe28bf0f592b7"
   },
   "outputs": [
    {
     "name": "stdout",
     "output_type": "stream",
     "text": [
      "Original training data shape:\n",
      "(1770, 1)\n",
      "New training data shape:\n",
      "(1770, 1, 1)\n",
      "(758, 1, 1)\n"
     ]
    }
   ],
   "source": [
    "# Create test and training sets for one-step-ahead regression.\n",
    "window_size = 1\n",
    "train_X, train_Y = create_dataset(train, window_size)\n",
    "test_X, test_Y = create_dataset(test, window_size)\n",
    "print(\"Original training data shape:\")\n",
    "print(train_X.shape)\n",
    "\n",
    "# Reshape the input data into appropriate form for Keras. reshape(number of samples, time steps,number of features at each time step)\n",
    "train_X = np.reshape(train_X, (train_X.shape[0], 1, train_X.shape[1]))\n",
    "test_X = np.reshape(test_X, (test_X.shape[0], 1, test_X.shape[1]))\n",
    "print(\"New training data shape:\")\n",
    "print(train_X.shape)\n",
    "print(test_X.shape)"
   ]
  },
  {
   "cell_type": "markdown",
   "metadata": {
    "_cell_guid": "1799b1b6-08d5-43c3-bbc1-fc3071b03115",
    "_uuid": "27709b277916cd5dfa883e76a9ec32414df36c0e"
   },
   "source": [
    "#### Build simple LSTM model on training data\n",
    "\n",
    "The LSTM architecture here consists of:\n",
    "\n",
    "* One input layer.\n",
    "* One LSTM layer of 4 blocks.\n",
    "* One `Dense` layer to produce a single output.\n",
    "* Use MSE as loss function.\n",
    "\n",
    "Many different architectures could be considered. But this is just a quick test, so we'll keep things nice and simple."
   ]
  },
  {
   "cell_type": "markdown",
   "metadata": {},
   "source": [
    "Parameters meaning:\n",
    "input_shape: (time steps, number of feature at each time step)\n",
    "optimizer: algorithm in optimizing loss function to get coefficient\n",
    "epochs: number of times that the entire dataset pass forward through the model\n",
    "batch_size: amount of sample used in each iteration\n",
    "verbose: print out performance in each epoch or not"
   ]
  },
  {
   "cell_type": "code",
   "execution_count": 13,
   "metadata": {
    "_cell_guid": "98db98ae-0354-4a97-9dcf-d1ed69929c09",
    "_uuid": "55261632a34b1edc494392bfff6157cd9be6ae6e",
    "scrolled": true
   },
   "outputs": [
    {
     "name": "stdout",
     "output_type": "stream",
     "text": [
      "Epoch 1/100\n",
      " - 5s - loss: 0.0058\n",
      "Epoch 2/100\n",
      " - 4s - loss: 1.0372e-04\n",
      "Epoch 3/100\n",
      " - 4s - loss: 2.0960e-05\n",
      "Epoch 4/100\n",
      " - 4s - loss: 1.9781e-05\n",
      "Epoch 5/100\n",
      " - 4s - loss: 1.8381e-05\n",
      "Epoch 6/100\n",
      " - 4s - loss: 1.7763e-05\n",
      "Epoch 7/100\n",
      " - 4s - loss: 1.7382e-05\n",
      "Epoch 8/100\n",
      " - 3s - loss: 1.6437e-05\n",
      "Epoch 9/100\n",
      " - 3s - loss: 1.7551e-05\n",
      "Epoch 10/100\n",
      " - 3s - loss: 1.6558e-05\n",
      "Epoch 11/100\n",
      " - 4s - loss: 1.6570e-05\n",
      "Epoch 12/100\n",
      " - 3s - loss: 1.6415e-05\n",
      "Epoch 13/100\n",
      " - 3s - loss: 1.6669e-05\n",
      "Epoch 14/100\n",
      " - 3s - loss: 1.6137e-05\n",
      "Epoch 15/100\n",
      " - 3s - loss: 1.6505e-05\n",
      "Epoch 16/100\n",
      " - 3s - loss: 1.6244e-05\n",
      "Epoch 17/100\n",
      " - 3s - loss: 1.6406e-05\n",
      "Epoch 18/100\n",
      " - 3s - loss: 1.6427e-05\n",
      "Epoch 19/100\n",
      " - 3s - loss: 1.6983e-05\n",
      "Epoch 20/100\n",
      " - 3s - loss: 1.6339e-05\n",
      "Epoch 21/100\n",
      " - 3s - loss: 1.5895e-05\n",
      "Epoch 22/100\n",
      " - 3s - loss: 1.6580e-05\n",
      "Epoch 23/100\n",
      " - 4s - loss: 1.6489e-05\n",
      "Epoch 24/100\n",
      " - 3s - loss: 1.7151e-05\n",
      "Epoch 25/100\n",
      " - 4s - loss: 1.7044e-05\n",
      "Epoch 26/100\n",
      " - 3s - loss: 1.6025e-05\n",
      "Epoch 27/100\n",
      " - 3s - loss: 1.6348e-05\n",
      "Epoch 28/100\n",
      " - 3s - loss: 1.6609e-05\n",
      "Epoch 29/100\n",
      " - 3s - loss: 1.5748e-05\n",
      "Epoch 30/100\n",
      " - 3s - loss: 1.5566e-05\n",
      "Epoch 31/100\n",
      " - 3s - loss: 1.6496e-05\n",
      "Epoch 32/100\n",
      " - 3s - loss: 1.6445e-05\n",
      "Epoch 33/100\n",
      " - 4s - loss: 1.6095e-05\n",
      "Epoch 34/100\n",
      " - 3s - loss: 1.5210e-05\n",
      "Epoch 35/100\n",
      " - 3s - loss: 1.5630e-05\n",
      "Epoch 36/100\n",
      " - 3s - loss: 1.6198e-05\n",
      "Epoch 37/100\n",
      " - 3s - loss: 1.6258e-05\n",
      "Epoch 38/100\n",
      " - 3s - loss: 1.6037e-05\n",
      "Epoch 39/100\n",
      " - 3s - loss: 1.5818e-05\n",
      "Epoch 40/100\n",
      " - 3s - loss: 1.5669e-05\n",
      "Epoch 41/100\n",
      " - 3s - loss: 1.5555e-05\n",
      "Epoch 42/100\n",
      " - 3s - loss: 1.5594e-05\n",
      "Epoch 43/100\n",
      " - 4s - loss: 1.5921e-05\n",
      "Epoch 44/100\n",
      " - 7s - loss: 1.5723e-05\n",
      "Epoch 45/100\n",
      " - 6s - loss: 1.6067e-05\n",
      "Epoch 46/100\n",
      " - 5s - loss: 1.6364e-05\n",
      "Epoch 47/100\n",
      " - 3s - loss: 1.6043e-05\n",
      "Epoch 48/100\n",
      " - 4s - loss: 1.6063e-05\n",
      "Epoch 49/100\n",
      " - 4s - loss: 1.6243e-05\n",
      "Epoch 50/100\n",
      " - 5s - loss: 1.6006e-05\n",
      "Epoch 51/100\n",
      " - 4s - loss: 1.6273e-05\n",
      "Epoch 52/100\n",
      " - 5s - loss: 1.6271e-05\n",
      "Epoch 53/100\n",
      " - 4s - loss: 1.6023e-05\n",
      "Epoch 54/100\n",
      " - 4s - loss: 1.6680e-05\n",
      "Epoch 55/100\n",
      " - 4s - loss: 1.5260e-05\n",
      "Epoch 56/100\n",
      " - 4s - loss: 1.5633e-05\n",
      "Epoch 57/100\n",
      " - 4s - loss: 1.6078e-05\n",
      "Epoch 58/100\n",
      " - 5s - loss: 1.5924e-05\n",
      "Epoch 59/100\n",
      " - 5s - loss: 1.5247e-05\n",
      "Epoch 60/100\n",
      " - 4s - loss: 1.5287e-05\n",
      "Epoch 61/100\n",
      " - 3s - loss: 1.5671e-05\n",
      "Epoch 62/100\n",
      " - 4s - loss: 1.6049e-05\n",
      "Epoch 63/100\n",
      " - 5s - loss: 1.6056e-05\n",
      "Epoch 64/100\n",
      " - 6s - loss: 1.5942e-05\n",
      "Epoch 65/100\n",
      " - 4s - loss: 1.6087e-05\n",
      "Epoch 66/100\n",
      " - 4s - loss: 1.6185e-05\n",
      "Epoch 67/100\n",
      " - 3s - loss: 1.5015e-05\n",
      "Epoch 68/100\n",
      " - 3s - loss: 1.7203e-05\n",
      "Epoch 69/100\n",
      " - 3s - loss: 1.6539e-05\n",
      "Epoch 70/100\n",
      " - 3s - loss: 1.5915e-05\n",
      "Epoch 71/100\n",
      " - 3s - loss: 1.5806e-05\n",
      "Epoch 72/100\n",
      " - 3s - loss: 1.5691e-05\n",
      "Epoch 73/100\n",
      " - 3s - loss: 1.5792e-05\n",
      "Epoch 74/100\n",
      " - 4s - loss: 1.5784e-05\n",
      "Epoch 75/100\n",
      " - 3s - loss: 1.5821e-05\n",
      "Epoch 76/100\n",
      " - 3s - loss: 1.6162e-05\n",
      "Epoch 77/100\n",
      " - 3s - loss: 1.6221e-05\n",
      "Epoch 78/100\n",
      " - 3s - loss: 1.5644e-05\n",
      "Epoch 79/100\n",
      " - 3s - loss: 1.5429e-05\n",
      "Epoch 80/100\n",
      " - 3s - loss: 1.5517e-05\n",
      "Epoch 81/100\n",
      " - 3s - loss: 1.5238e-05\n",
      "Epoch 82/100\n",
      " - 3s - loss: 1.6361e-05\n",
      "Epoch 83/100\n",
      " - 4s - loss: 1.5887e-05\n",
      "Epoch 84/100\n",
      " - 4s - loss: 1.5093e-05\n",
      "Epoch 85/100\n",
      " - 5s - loss: 1.5511e-05\n",
      "Epoch 86/100\n",
      " - 4s - loss: 1.5798e-05\n",
      "Epoch 87/100\n",
      " - 4s - loss: 1.5489e-05\n",
      "Epoch 88/100\n",
      " - 3s - loss: 1.5115e-05\n",
      "Epoch 89/100\n",
      " - 3s - loss: 1.4977e-05\n",
      "Epoch 90/100\n",
      " - 3s - loss: 1.5275e-05\n",
      "Epoch 91/100\n",
      " - 3s - loss: 1.5213e-05\n",
      "Epoch 92/100\n",
      " - 3s - loss: 1.4997e-05\n",
      "Epoch 93/100\n",
      " - 3s - loss: 1.5456e-05\n",
      "Epoch 94/100\n",
      " - 3s - loss: 1.5133e-05\n",
      "Epoch 95/100\n",
      " - 3s - loss: 1.5293e-05\n",
      "Epoch 96/100\n",
      " - 3s - loss: 1.5796e-05\n",
      "Epoch 97/100\n",
      " - 4s - loss: 1.5669e-05\n",
      "Epoch 98/100\n",
      " - 3s - loss: 1.5723e-05\n",
      "Epoch 99/100\n",
      " - 3s - loss: 1.6338e-05\n",
      "Epoch 100/100\n",
      " - 3s - loss: 1.5461e-05\n"
     ]
    }
   ],
   "source": [
    "def fit_model(train_X, train_Y, window_size = 1):\n",
    "    model = Sequential() # model for LSTM\n",
    "    \n",
    "    model.add(LSTM(4, \n",
    "                   input_shape = (1, window_size))) # add a layer for LSTM, 4 neuros in the LSTM layer\n",
    "    model.add(Dense(1)) # dense layer to return the output, number of output for each observation is 1\n",
    "    model.compile(loss = \"mean_squared_error\", \n",
    "                  optimizer = \"adam\") # loss function and optimizer\n",
    "    model.fit(train_X, \n",
    "              train_Y, \n",
    "              epochs = 100, \n",
    "              batch_size = 1, \n",
    "              verbose = 2) # fit model\n",
    "    \n",
    "    return(model)\n",
    "\n",
    "# Fit the first model.\n",
    "model1 = fit_model(train_X, train_Y, window_size)"
   ]
  },
  {
   "cell_type": "markdown",
   "metadata": {
    "_cell_guid": "9c78c805-c5d9-4859-920a-6c857d9f88f4",
    "_uuid": "cc83baa3cf6ee0a18b9c0809469f04715aba5e3a",
    "collapsed": true
   },
   "source": [
    "### Results\n",
    "#### Predictions and model evaluation\n",
    "\n",
    "As can be seen below, already the simple model performs not too poorly. The advantage of using the RMSE is that it's in the same unit as the original data, i.e. 1.000 passengers / month."
   ]
  },
  {
   "cell_type": "code",
   "execution_count": 14,
   "metadata": {
    "_cell_guid": "d5fb618e-5319-435c-a5fa-dae9f1209658",
    "_uuid": "536a96d4ee8a8d545ddee3c4feb92a430b27375e"
   },
   "outputs": [
    {
     "name": "stdout",
     "output_type": "stream",
     "text": [
      "Training data score: 0.26 RMSE\n",
      "Test data score: 3.97 RMSE\n"
     ]
    }
   ],
   "source": [
    "def predict_and_score(model, X, Y):\n",
    "    # Make predictions on the original scale of the data.\n",
    "    pred = scaler.inverse_transform(model.predict(X))\n",
    "    # Prepare Y data to also be on the original scale for interpretability.\n",
    "    orig_data = scaler.inverse_transform([Y])\n",
    "    # Calculate RMSE.\n",
    "    score = math.sqrt(mean_squared_error(orig_data[0], pred[:, 0]))\n",
    "    return(score, pred)\n",
    "\n",
    "rmse_train, train_predict = predict_and_score(model1, train_X, train_Y)\n",
    "rmse_test, test_predict = predict_and_score(model1, test_X, test_Y)\n",
    "\n",
    "print(\"Training data score: %.2f RMSE\" % rmse_train)\n",
    "print(\"Test data score: %.2f RMSE\" % rmse_test)\n",
    "# before detrend, training error is 21.84 and test error is 44.99"
   ]
  },
  {
   "cell_type": "markdown",
   "metadata": {
    "_cell_guid": "253ff729-8a09-49bc-b9fe-ed09fc9f2aa3",
    "_uuid": "40b3c80a32292376b92500c4be0658b8d7ebd5eb"
   },
   "source": [
    "#### Plotting original data, predictions, and forecast\n",
    "\n",
    "With a plot we can compare the predicted vs. actual passenger figures."
   ]
  },
  {
   "cell_type": "code",
   "execution_count": 16,
   "metadata": {},
   "outputs": [
    {
     "data": {
      "image/png": "[encoded data removed]",
      "text/plain": [
       "<Figure size 1080x360 with 1 Axes>"
      ]
     },
     "metadata": {
      "needs_background": "light"
     },
     "output_type": "display_data"
    }
   ],
   "source": [
    "# Start with training predictions.\n",
    "train_predict_plot = np.empty_like(dataset)\n",
    "train_predict_plot[:, :] = np.nan\n",
    "train_predict_plot[window_size:len(train_predict) + window_size, :] = train_predict\n",
    "\n",
    "# Add test predictions.\n",
    "test_predict_plot = np.empty_like(dataset)\n",
    "test_predict_plot[:, :] = np.nan\n",
    "test_predict_plot[len(train_predict) + (window_size * 2) + 1:len(dataset) - 1, :] = test_predict\n",
    "\n",
    "# Create the plot.\n",
    "plt.figure(figsize = (15, 5))\n",
    "plt.plot(scaler.inverse_transform(dataset), label = \"True value\")\n",
    "plt.plot(train_predict_plot, label = \"Training set prediction\")\n",
    "plt.plot(test_predict_plot, label = \"Test set prediction\")\n",
    "plt.xlabel(\"Months\")\n",
    "plt.ylabel(\"1000 International Airline Passengers\")\n",
    "plt.title(\"Comparison true vs. predicted training / test\")\n",
    "plt.legend()\n",
    "plt.show()"
   ]
  },
  {
   "cell_type": "markdown",
   "metadata": {},
   "source": [
    "https://towardsdatascience.com/performing-a-time-series-analysis-on-the-aapl-stock-index-3655da9612ff"
   ]
  },
  {
   "cell_type": "code",
   "execution_count": null,
   "metadata": {},
   "outputs": [],
   "source": []
  }
 ],
 "metadata": {
  "kernelspec": {
   "display_name": "Python 3",
   "language": "python",
   "name": "python3"
  },
  "language_info": {
   "codemirror_mode": {
    "name": "ipython",
    "version": 3
   },
   "file_extension": ".py",
   "mimetype": "text/x-python",
   "name": "python",
   "nbconvert_exporter": "python",
   "pygments_lexer": "ipython3",
   "version": "3.7.7"
  }
 },
 "nbformat": 4,
 "nbformat_minor": 1
}
